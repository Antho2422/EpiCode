{
 "cells": [
  {
   "cell_type": "markdown",
   "id": "1afabe96",
   "metadata": {},
   "source": [
    "### Importing necessary packages :"
   ]
  },
  {
   "cell_type": "code",
   "execution_count": 2,
   "id": "6819cd5f",
   "metadata": {},
   "outputs": [],
   "source": [
    "import os\n",
    "import pandas as pd\n",
    "import platform\n",
    "import shutil\n",
    "import re"
   ]
  },
  {
   "cell_type": "markdown",
   "id": "93044544",
   "metadata": {},
   "source": [
    "### Checking Operating System and configuring project's paths accordingly :"
   ]
  },
  {
   "cell_type": "code",
   "execution_count": 47,
   "id": "66dfe7bb",
   "metadata": {},
   "outputs": [
    {
     "name": "stdout",
     "output_type": "stream",
     "text": [
      "Windows plateform detected.\n",
      "Raw Patients Path:  \\\\l2export\\iss02.epimicro\\patients\\raw\n",
      "Resting Patients Path:  \\\\l2export\\iss02.epimicro\\patients\\protocols\\epiRest\n",
      "Images Path:  ..\\data\\images\n",
      "Ouput Path:  ..\\data\\patients\n"
     ]
    }
   ],
   "source": [
    "output_path = os.path.join(\"..\", \"data\", \"patients\")\n",
    "image_path = os.path.join(\"..\", \"data\", \"images\")\n",
    "templates_path = os.path.join(\"..\", \"src\", \"templates\")\n",
    "\n",
    "rootpath_analysis = \"\"\n",
    "rootpath_data = \"\"\n",
    "system = platform.system()\n",
    "print(system, \"plateform detected.\")\n",
    "\n",
    "try:\n",
    "    if system == \"Darwin\":\n",
    "        raise OSError\n",
    "    elif system == \"Linux\":\n",
    "        rootpath_analysis = r\"/network/lustre/iss02/charpier/analyses/priam\"\n",
    "        rootpath_data = r\"/network/lustre/iss02/epimicro/patients/raw\"\n",
    "        restpath_data = r\"/network/lustre/iss02/epimicro/patients/protocols/epiRest\"\n",
    "    elif system == \"Windows\":\n",
    "        rootpath_analysis = r\"\\\\l2export\\iss02.charpier\\analyses\\priam\"\n",
    "        rootpath_data = r\"\\\\l2export\\iss02.epimicro\\patients\\raw\"\n",
    "        restpath_data = r\"\\\\l2export\\iss02.epimicro\\patients\\protocols\\epiRest\"\n",
    "    else:\n",
    "        raise OSError\n",
    "except OSError:\n",
    "    print(system, \"platform not supported. Exiting...\")\n",
    "    \n",
    "print(r\"Raw Patients Path: \", rootpath_data)\n",
    "print(r\"Resting Patients Path: \", restpath_data)\n",
    "print(r\"Images Path: \", image_path)\n",
    "print(r\"Ouput Path: \", output_path)"
   ]
  },
  {
   "cell_type": "markdown",
   "id": "ab68572f",
   "metadata": {},
   "source": [
    "### Checking for matching files in root and rest :"
   ]
  },
  {
   "cell_type": "code",
   "execution_count": 48,
   "id": "394ec241",
   "metadata": {},
   "outputs": [],
   "source": [
    "root_path_list = []\n",
    "rest_path_list = []\n",
    "for path in os.listdir(rootpath_data):\n",
    "    if path.startswith(\"pat\"):\n",
    "        root_path_list.append(path)\n",
    "for path in os.listdir(restpath_data):\n",
    "    if path.startswith(\"pat\"):\n",
    "        rest_path_list.append(path)"
   ]
  },
  {
   "cell_type": "code",
   "execution_count": 49,
   "id": "7bb76f5f",
   "metadata": {},
   "outputs": [
    {
     "name": "stdout",
     "output_type": "stream",
     "text": [
      "All rest patients linked to raw patients.\n",
      "Raw patients count: 96\n",
      "Rest patients count: 22\n"
     ]
    }
   ],
   "source": [
    "common_list = []\n",
    "for common in set(root_path_list).intersection(set(rest_path_list)):\n",
    "    if common.startswith(\"pat\"):\n",
    "        common_list.append(common)\n",
    "try:\n",
    "    if not len(list(set(rest_path_list) - set(common_list))):\n",
    "        print(\"All rest patients linked to raw patients.\")\n",
    "    else:\n",
    "        raise OSError\n",
    "except OSError:\n",
    "    print(list(set(rest_path_list) - set(common_list)))\n",
    "    print(\"Rest and raw patients mismatch detected. Exiting...\")  \n",
    "print(\"Raw patients count:\", len(root_path_list))\n",
    "print(\"Rest patients count:\", len(rest_path_list))"
   ]
  },
  {
   "cell_type": "code",
   "execution_count": 50,
   "id": "ac2721c8",
   "metadata": {},
   "outputs": [],
   "source": [
    "def write_global_config_file(templates_path, output_path, filename):\n",
    "    if not os.path.exists(os.path.join(output_path, filename)):\n",
    "        # create a global config file\n",
    "        with open(os.path.join(templates_path, filename) ,'r') as template, \\\n",
    "             open(os.path.join(output_path, \"global.cfg\"),'w') as outputfile:\n",
    "            outputfile.write(\"%GLOBAL PARAMETERS\\n\")\n",
    "            for line in template:\n",
    "                if (not line.startswith(\"%\")):\n",
    "                    outputfile.write(line)\n",
    "            outputfile.write(\"\\n\")\n",
    "        template.close()\n",
    "        outputfile.close()"
   ]
  },
  {
   "cell_type": "code",
   "execution_count": 51,
   "id": "41b3180b",
   "metadata": {},
   "outputs": [],
   "source": [
    "def write_patient_config_file(templates_path, output_path, filename,\n",
    "                              patient):\n",
    "    if not os.path.exists(os.path.join(output_path, patient) + \".cfg\"):\n",
    "        # create a patient config file\n",
    "        with open(os.path.join(templates_path, filename) ,'r') as template, \\\n",
    "             open(os.path.join(output_path, patient + \".cfg\"),'w') as outputfile:\n",
    "            outputfile.write(\"\\n%PATIENT PARAMETERS - \" + patient + \"\\n\")\n",
    "            for line in template:\n",
    "                if (not line.startswith(\"%\")):\n",
    "                    outputfile.write(line)\n",
    "            template.close()\n",
    "            outputfile.close()"
   ]
  },
  {
   "cell_type": "code",
   "execution_count": 52,
   "id": "979d93ee",
   "metadata": {},
   "outputs": [],
   "source": [
    "def write_session_config_file(templates_path, output_path, filename,\n",
    "                              patient, session):\n",
    "    if not os.path.exists(os.path.join(output_path, session) + \".cfg\"):\n",
    "        # create a patient config file\n",
    "        with open(os.path.join(templates_path, filename) ,'r') as template, \\\n",
    "             open(os.path.join(output_path, session + \".cfg\") ,'w') as outputfile:\n",
    "            outputfile.write(\"%SESSION PARAMETERS - \" + session + \"\\n\")\n",
    "            for line in template:\n",
    "                if (not line.startswith(\"%\")):\n",
    "                    outputfile.write(line)\n",
    "            outputfile.write(\"\\n\")\n",
    "        template.close()\n",
    "        outputfile.close()"
   ]
  },
  {
   "cell_type": "markdown",
   "id": "0cc09520",
   "metadata": {},
   "source": [
    "### Generating Output Folder :"
   ]
  },
  {
   "cell_type": "code",
   "execution_count": 53,
   "id": "1cea9694",
   "metadata": {},
   "outputs": [],
   "source": [
    "# Creating all non-existing output folders :\n",
    "if not os.path.exists(output_path):\n",
    "    os.makedirs(output_path)\n",
    "if not os.path.exists(image_path):\n",
    "    os.makedirs(image_path)"
   ]
  },
  {
   "cell_type": "markdown",
   "id": "459b00d0",
   "metadata": {},
   "source": [
    "### Generating Global Config File :"
   ]
  },
  {
   "cell_type": "code",
   "execution_count": 54,
   "id": "9fd01bee",
   "metadata": {},
   "outputs": [],
   "source": [
    "write_global_config_file(templates_path, output_path, \"global_template.cfg\")"
   ]
  },
  {
   "cell_type": "markdown",
   "id": "e6a89161",
   "metadata": {},
   "source": [
    "### Generating All Patients & Sessions Folders and Config Files :"
   ]
  },
  {
   "cell_type": "code",
   "execution_count": 55,
   "id": "2f4b59ef",
   "metadata": {},
   "outputs": [],
   "source": [
    "for patient in rest_path_list:\n",
    "    # Joining output path and patients path components :\n",
    "    patient_path = os.path.join(output_path, patient)\n",
    "    # Creating non-existing patient folder :\n",
    "    if not os.path.exists(patient_path):\n",
    "        os.makedirs(patient_path)\n",
    "    # Generating patient config file\n",
    "    write_patient_config_file(templates_path, patient_path,\n",
    "                              \"patient_template.cfg\",\n",
    "                              patient)\n",
    "    for session in os.listdir(os.path.join(restpath_data, patient)):\n",
    "        # Joining output path, patient path, and session path components :\n",
    "        session_path = os.path.join(output_path, patient, session)\n",
    "        if session.startswith(\"ses\"):\n",
    "            # Creating non-existing session folder :\n",
    "            if not os.path.exists(session_path):\n",
    "                os.makedirs(session_path)\n",
    "            write_session_config_file(templates_path, session_path,\n",
    "                                      \"session_template.cfg\",\n",
    "                                      patient, session)"
   ]
  },
  {
   "cell_type": "markdown",
   "id": "d9a23b32",
   "metadata": {},
   "source": [
    "### Generating Matlab Parameter File"
   ]
  },
  {
   "cell_type": "code",
   "execution_count": 56,
   "id": "bdb28e24",
   "metadata": {},
   "outputs": [],
   "source": [
    "def generate_new_params_file(filename):\n",
    "    final_params = open(filename, \"w\")\n",
    "    global_params = open(os.path.join(output_path, \"global\") + \".cfg\", 'r',)\n",
    "    for line in global_params:\n",
    "        final_params.write(line)\n",
    "    final_params.write(\"%========================================================\\n\")\n",
    "    global_params.close()\n",
    "    session_id = 1\n",
    "    for patient in rest_path_list:\n",
    "        for session in os.listdir(os.path.join(restpath_data, patient)):\n",
    "            if session.startswith(\"ses\"):\n",
    "                patient_path = os.path.join(output_path, patient)\n",
    "                patient_params = open(os.path.join(patient_path, patient) + \".cfg\", 'r')\n",
    "                for line in patient_params:\n",
    "                    new_line = re.sub('config{([0-9]+)}',\n",
    "                                      'config{'+ str(session_id) +'}', line)\n",
    "                    final_params.write(new_line)\n",
    "                patient_params.close()\n",
    "                session_output_path = os.path.join(output_path, patient, session)\n",
    "                session_params = open(os.path.join(session_output_path, session) + \".cfg\", 'r')\n",
    "                for line in session_params:\n",
    "                    new_line = re.sub('config{([0-9]+)}',\n",
    "                                      'config{'+ str(session_id) +'}', line)\n",
    "                    final_params.write(new_line)\n",
    "                session_params.close()\n",
    "                session_id += 1\n",
    "        final_params.write(\"\\n%--------------------------------------------------------\\n\")\n",
    "    final_params.close()"
   ]
  },
  {
   "cell_type": "code",
   "execution_count": 57,
   "id": "58c7589c",
   "metadata": {},
   "outputs": [],
   "source": [
    "generate_new_params_file(\"onset_setparams.m\")"
   ]
  },
  {
   "cell_type": "code",
   "execution_count": 58,
   "id": "cc413294",
   "metadata": {
    "scrolled": false
   },
   "outputs": [],
   "source": [
    "import matlab.engine\n",
    "eng = matlab.engine.start_matlab()\n",
    "eng.onset_prepare_SC(nargout=0)\n",
    "eng.quit()"
   ]
  }
 ],
 "metadata": {
  "kernelspec": {
   "display_name": "Python 3 (ipykernel)",
   "language": "python",
   "name": "python3"
  },
  "language_info": {
   "codemirror_mode": {
    "name": "ipython",
    "version": 3
   },
   "file_extension": ".py",
   "mimetype": "text/x-python",
   "name": "python",
   "nbconvert_exporter": "python",
   "pygments_lexer": "ipython3",
   "version": "3.10.6"
  }
 },
 "nbformat": 4,
 "nbformat_minor": 5
}
