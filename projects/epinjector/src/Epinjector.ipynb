{
 "cells": [
  {
   "cell_type": "markdown",
   "id": "1afabe96",
   "metadata": {},
   "source": [
    "### Importing necessary packages :"
   ]
  },
  {
   "cell_type": "code",
   "execution_count": 6,
   "id": "6819cd5f",
   "metadata": {},
   "outputs": [],
   "source": [
    "import os\n",
    "import pandas as pd\n",
    "import platform\n",
    "import shutil\n",
    "import re"
   ]
  },
  {
   "cell_type": "markdown",
   "id": "93044544",
   "metadata": {},
   "source": [
    "### Checking Operating System and configuring project's paths accordingly :"
   ]
  },
  {
   "cell_type": "code",
   "execution_count": 7,
   "id": "66dfe7bb",
   "metadata": {},
   "outputs": [
    {
     "name": "stdout",
     "output_type": "stream",
     "text": [
      "Windows plateform detected.\n",
      "Raw Patients Path:  \\\\l2export\\iss02.epimicro\\patients\\raw\n",
      "Resting Patients Path:  \\\\l2export\\iss02.epimicro\\patients\\protocols\\epiRest\n",
      "Images Path:  \\\\l2export\\iss02.charpier\\priam\\EpiRest_Spike\\data\\images\n",
      "Ouput Path:  \\\\l2export\\iss02.charpier\\priam\\EpiRest_Spike\\data\\patients\n",
      "Source Path:  \\\\l2export\\iss02.charpier\\analyses\\vn_onset\\EpiCode\\projects\\epinjector\n"
     ]
    }
   ],
   "source": [
    "rootpath_analysis = \"\"\n",
    "rootpath_data = \"\"\n",
    "system = platform.system()\n",
    "print(system, \"plateform detected.\")\n",
    "\n",
    "try:\n",
    "    if system == \"Darwin\":\n",
    "        raise OSError\n",
    "    elif system == \"Linux\":\n",
    "        rootpath_analysis = r\"/network/lustre/iss02/charpier/analyses/priam/EpiRest_Spike\"\n",
    "        rootpath_data = r\"/network/lustre/iss02/epimicro/patients/raw\"\n",
    "        restpath_data = r\"/network/lustre/iss02/epimicro/patients/protocols/epiRest\"\n",
    "        source_path   = r\"/network/lustre/iss02/charpier/analyses/vn_onset/EpiCode/projects/epinjector\"\n",
    "    elif system == \"Windows\":\n",
    "        rootpath_analysis = r\"\\\\l2export\\iss02.charpier\\priam\\EpiRest_Spike\"\n",
    "        rootpath_data = r\"\\\\l2export\\iss02.epimicro\\patients\\raw\"\n",
    "        restpath_data = r\"\\\\l2export\\iss02.epimicro\\patients\\protocols\\epiRest\"\n",
    "        source_path   = r\"\\\\l2export\\iss02.charpier\\analyses\\vn_onset\\EpiCode\\projects\\epinjector\"\n",
    "    else:\n",
    "        raise OSError\n",
    "except OSError:\n",
    "    print(system, \"platform not supported. Exiting...\")\n",
    "\n",
    "output_path = os.path.join(rootpath_analysis, \"data\", \"patients\")\n",
    "image_path = os.path.join(rootpath_analysis, \"data\", \"images\")\n",
    "templates_path = os.path.join(source_path, \"src\", \"templates\")\n",
    "    \n",
    "print(r\"Raw Patients Path: \", rootpath_data)\n",
    "print(r\"Resting Patients Path: \", restpath_data)\n",
    "print(r\"Images Path: \", image_path)\n",
    "print(r\"Ouput Path: \", output_path)\n",
    "print(r\"Source Path: \", source_path)"
   ]
  },
  {
   "cell_type": "markdown",
   "id": "ab68572f",
   "metadata": {},
   "source": [
    "### Checking for matching files in root and rest :"
   ]
  },
  {
   "cell_type": "code",
   "execution_count": 8,
   "id": "394ec241",
   "metadata": {},
   "outputs": [],
   "source": [
    "root_path_list = []\n",
    "rest_path_list = []\n",
    "for path in os.listdir(rootpath_data):\n",
    "    if path.startswith(\"pat\"):\n",
    "        root_path_list.append(path)\n",
    "for path in os.listdir(restpath_data):\n",
    "    if path.startswith(\"pat\"):\n",
    "        rest_path_list.append(path)"
   ]
  },
  {
   "cell_type": "code",
   "execution_count": 9,
   "id": "7bb76f5f",
   "metadata": {},
   "outputs": [
    {
     "name": "stdout",
     "output_type": "stream",
     "text": [
      "All rest patients linked to raw patients.\n",
      "Raw patients count: 96\n",
      "Rest patients count: 22\n"
     ]
    }
   ],
   "source": [
    "common_list = []\n",
    "for common in set(root_path_list).intersection(set(rest_path_list)):\n",
    "    if common.startswith(\"pat\"):\n",
    "        common_list.append(common)\n",
    "try:\n",
    "    if not len(list(set(rest_path_list) - set(common_list))):\n",
    "        print(\"All rest patients linked to raw patients.\")\n",
    "    else:\n",
    "        raise OSError\n",
    "except OSError:\n",
    "    print(list(set(rest_path_list) - set(common_list)))\n",
    "    print(\"Rest and raw patients mismatch detected. Exiting...\")  \n",
    "print(\"Raw patients count:\", len(root_path_list))\n",
    "print(\"Rest patients count:\", len(rest_path_list))"
   ]
  },
  {
   "cell_type": "code",
   "execution_count": 29,
   "id": "ac2721c8",
   "metadata": {},
   "outputs": [],
   "source": [
    "def write_global_config_file(templates_path, output_path, filename):\n",
    "    if not os.path.exists(os.path.join(output_path, filename)):\n",
    "        # create a global config file\n",
    "        with open(os.path.join(templates_path, filename) ,'r') as template, \\\n",
    "             open(os.path.join(output_path, \"global.cfg\"),'w') as outputfile:\n",
    "            outputfile.write(\"%% GLOBAL PARAMETERS\\n\")\n",
    "            for line in template:\n",
    "                if (not line.startswith(\"%\")):\n",
    "                    outputfile.write(line)\n",
    "            outputfile.write(\"\\n\")\n",
    "        template.close()\n",
    "        outputfile.close()"
   ]
  },
  {
   "cell_type": "code",
   "execution_count": 30,
   "id": "41b3180b",
   "metadata": {},
   "outputs": [],
   "source": [
    "def write_patient_config_file(templates_path, output_path, filename,\n",
    "                              patient):\n",
    "    if not os.path.exists(os.path.join(output_path, patient) + \".cfg\"):\n",
    "        # create a patient config file\n",
    "        with open(os.path.join(templates_path, filename) ,'r') as template, \\\n",
    "             open(os.path.join(output_path, patient + \".cfg\"),'w') as outputfile:\n",
    "            outputfile.write(\"\\n%% PATIENT PARAMETERS - \" + patient + \"\\n\")\n",
    "            for line in template:\n",
    "                if (not line.startswith(\"%\")):\n",
    "                    outputfile.write(line)\n",
    "            template.close()\n",
    "            outputfile.close()"
   ]
  },
  {
   "cell_type": "code",
   "execution_count": 31,
   "id": "979d93ee",
   "metadata": {},
   "outputs": [],
   "source": [
    "def write_session_config_file(templates_path, output_path, filename,\n",
    "                              patient, session):\n",
    "    if not os.path.exists(os.path.join(output_path, session) + \".cfg\"):\n",
    "        # create a patient config file\n",
    "        with open(os.path.join(templates_path, filename) ,'r') as template, \\\n",
    "             open(os.path.join(output_path, session + \".cfg\") ,'w') as outputfile:\n",
    "            outputfile.write(\"%SESSION PARAMETERS - \" + session + \"\\n\")\n",
    "            for line in template:\n",
    "                if (not line.startswith(\"%\")):\n",
    "                    outputfile.write(line)\n",
    "            outputfile.write(\"\\n\")\n",
    "        template.close()\n",
    "        outputfile.close()"
   ]
  },
  {
   "cell_type": "markdown",
   "id": "0cc09520",
   "metadata": {},
   "source": [
    "### Generating Output Folder :"
   ]
  },
  {
   "cell_type": "code",
   "execution_count": 32,
   "id": "44048d23",
   "metadata": {},
   "outputs": [
    {
     "data": {
      "text/plain": [
       "['data', 'Main EpiRest Database.xlsx']"
      ]
     },
     "execution_count": 32,
     "metadata": {},
     "output_type": "execute_result"
    }
   ],
   "source": [
    "os.listdir(rootpath_analysis)"
   ]
  },
  {
   "cell_type": "code",
   "execution_count": 33,
   "id": "1cea9694",
   "metadata": {},
   "outputs": [],
   "source": [
    "# Creating all non-existing output folders :\n",
    "if not os.path.exists(output_path):\n",
    "    os.makedirs(output_path)\n",
    "if not os.path.exists(image_path):\n",
    "    os.makedirs(image_path)"
   ]
  },
  {
   "cell_type": "markdown",
   "id": "459b00d0",
   "metadata": {},
   "source": [
    "### Generating Global Config File :"
   ]
  },
  {
   "cell_type": "code",
   "execution_count": 34,
   "id": "9fd01bee",
   "metadata": {},
   "outputs": [],
   "source": [
    "write_global_config_file(templates_path, output_path, \"global_template.cfg\")"
   ]
  },
  {
   "cell_type": "markdown",
   "id": "e6a89161",
   "metadata": {},
   "source": [
    "### Generating All Patients & Sessions Folders and Config Files :"
   ]
  },
  {
   "cell_type": "code",
   "execution_count": 35,
   "id": "2f4b59ef",
   "metadata": {},
   "outputs": [],
   "source": [
    "for patient in rest_path_list:\n",
    "    # Joining output path and patients path components :\n",
    "    patient_path = os.path.join(output_path, patient)\n",
    "    # Creating non-existing patient folder :\n",
    "    if not os.path.exists(patient_path):\n",
    "        os.makedirs(patient_path)\n",
    "    # Generating patient config file\n",
    "    write_patient_config_file(templates_path, patient_path,\n",
    "                              \"patient_template.cfg\",\n",
    "                              patient)\n",
    "    for session in os.listdir(os.path.join(restpath_data, patient)):\n",
    "        # Joining output path, patient path, and session path components :\n",
    "        session_path = os.path.join(output_path, patient, session)\n",
    "        if session.startswith(\"ses\"):\n",
    "            # Creating non-existing session folder :\n",
    "            if not os.path.exists(session_path):\n",
    "                os.makedirs(session_path)\n",
    "            write_session_config_file(templates_path, session_path,\n",
    "                                      \"session_template.cfg\",\n",
    "                                      patient, session)"
   ]
  },
  {
   "cell_type": "markdown",
   "id": "d9a23b32",
   "metadata": {},
   "source": [
    "### Generating Matlab Parameter File"
   ]
  },
  {
   "cell_type": "code",
   "execution_count": 13,
   "id": "bdb28e24",
   "metadata": {},
   "outputs": [],
   "source": [
    "def generate_new_params_file(filename):\n",
    "    final_params = open(filename, \"w\")\n",
    "    global_params = open(os.path.join(output_path, \"global\") + \".cfg\", 'r',)\n",
    "    for line in global_params:\n",
    "        final_params.write(line)\n",
    "    final_params.write(\"%========================================================\\n\")\n",
    "    global_params.close()\n",
    "    session_id = 1\n",
    "    for patient in rest_path_list:\n",
    "        for session in os.listdir(os.path.join(output_path, patient)):\n",
    "            if session.startswith(\"ses\"):\n",
    "                patient_path = os.path.join(output_path, patient)\n",
    "                patient_params = open(os.path.join(patient_path, patient) + \".cfg\", 'r')\n",
    "                for line in patient_params:\n",
    "                    new_line = re.sub('config{([0-9]+)}',\n",
    "                                      'config{'+ str(session_id) +'}', line)\n",
    "                    final_params.write(new_line)\n",
    "                patient_params.close()\n",
    "                session_output_path = os.path.join(output_path, patient, session)\n",
    "                session_params = open(os.path.join(session_output_path, session) + \".cfg\", 'r')\n",
    "                for line in session_params:\n",
    "                    new_line = re.sub('config{([0-9]+)}',\n",
    "                                      'config{'+ str(session_id) +'}', line)\n",
    "                    final_params.write(new_line)\n",
    "                session_params.close()\n",
    "                session_id += 1\n",
    "        final_params.write(\"\\n%--------------------------------------------------------\\n\")\n",
    "    final_params.close()"
   ]
  },
  {
   "cell_type": "code",
   "execution_count": 14,
   "id": "58c7589c",
   "metadata": {
    "scrolled": false
   },
   "outputs": [
    {
     "ename": "FileNotFoundError",
     "evalue": "[Errno 2] No such file or directory: '\\\\\\\\l2export\\\\iss02.charpier\\\\priam\\\\EpiRest_Spike\\\\data\\\\patients\\\\pat_02680_1158\\\\ses-06\\\\ses-06.cfg'",
     "output_type": "error",
     "traceback": [
      "\u001b[1;31m---------------------------------------------------------------------------\u001b[0m",
      "\u001b[1;31mFileNotFoundError\u001b[0m                         Traceback (most recent call last)",
      "Cell \u001b[1;32mIn [14], line 1\u001b[0m\n\u001b[1;32m----> 1\u001b[0m generate_new_params_file(\u001b[39m\"\u001b[39;49m\u001b[39mEpirestSpike_setparams.m\u001b[39;49m\u001b[39m\"\u001b[39;49m)\n",
      "Cell \u001b[1;32mIn [13], line 20\u001b[0m, in \u001b[0;36mgenerate_new_params_file\u001b[1;34m(filename)\u001b[0m\n\u001b[0;32m     18\u001b[0m patient_params\u001b[39m.\u001b[39mclose()\n\u001b[0;32m     19\u001b[0m session_output_path \u001b[39m=\u001b[39m os\u001b[39m.\u001b[39mpath\u001b[39m.\u001b[39mjoin(output_path, patient, session)\n\u001b[1;32m---> 20\u001b[0m session_params \u001b[39m=\u001b[39m \u001b[39mopen\u001b[39;49m(os\u001b[39m.\u001b[39;49mpath\u001b[39m.\u001b[39;49mjoin(session_output_path, session) \u001b[39m+\u001b[39;49m \u001b[39m\"\u001b[39;49m\u001b[39m.cfg\u001b[39;49m\u001b[39m\"\u001b[39;49m, \u001b[39m'\u001b[39;49m\u001b[39mr\u001b[39;49m\u001b[39m'\u001b[39;49m)\n\u001b[0;32m     21\u001b[0m \u001b[39mfor\u001b[39;00m line \u001b[39min\u001b[39;00m session_params:\n\u001b[0;32m     22\u001b[0m     new_line \u001b[39m=\u001b[39m re\u001b[39m.\u001b[39msub(\u001b[39m'\u001b[39m\u001b[39mconfig\u001b[39m\u001b[39m{\u001b[39m\u001b[39m([0-9]+)}\u001b[39m\u001b[39m'\u001b[39m,\n\u001b[0;32m     23\u001b[0m                       \u001b[39m'\u001b[39m\u001b[39mconfig\u001b[39m\u001b[39m{\u001b[39m\u001b[39m'\u001b[39m\u001b[39m+\u001b[39m \u001b[39mstr\u001b[39m(session_id) \u001b[39m+\u001b[39m\u001b[39m'\u001b[39m\u001b[39m}\u001b[39m\u001b[39m'\u001b[39m, line)\n",
      "File \u001b[1;32m~\\AppData\\Roaming\\Python\\Python39\\site-packages\\IPython\\core\\interactiveshell.py:282\u001b[0m, in \u001b[0;36m_modified_open\u001b[1;34m(file, *args, **kwargs)\u001b[0m\n\u001b[0;32m    275\u001b[0m \u001b[39mif\u001b[39;00m file \u001b[39min\u001b[39;00m {\u001b[39m0\u001b[39m, \u001b[39m1\u001b[39m, \u001b[39m2\u001b[39m}:\n\u001b[0;32m    276\u001b[0m     \u001b[39mraise\u001b[39;00m \u001b[39mValueError\u001b[39;00m(\n\u001b[0;32m    277\u001b[0m         \u001b[39mf\u001b[39m\u001b[39m\"\u001b[39m\u001b[39mIPython won\u001b[39m\u001b[39m'\u001b[39m\u001b[39mt let you open fd=\u001b[39m\u001b[39m{\u001b[39;00mfile\u001b[39m}\u001b[39;00m\u001b[39m by default \u001b[39m\u001b[39m\"\u001b[39m\n\u001b[0;32m    278\u001b[0m         \u001b[39m\"\u001b[39m\u001b[39mas it is likely to crash IPython. If you know what you are doing, \u001b[39m\u001b[39m\"\u001b[39m\n\u001b[0;32m    279\u001b[0m         \u001b[39m\"\u001b[39m\u001b[39myou can use builtins\u001b[39m\u001b[39m'\u001b[39m\u001b[39m open.\u001b[39m\u001b[39m\"\u001b[39m\n\u001b[0;32m    280\u001b[0m     )\n\u001b[1;32m--> 282\u001b[0m \u001b[39mreturn\u001b[39;00m io_open(file, \u001b[39m*\u001b[39margs, \u001b[39m*\u001b[39m\u001b[39m*\u001b[39mkwargs)\n",
      "\u001b[1;31mFileNotFoundError\u001b[0m: [Errno 2] No such file or directory: '\\\\\\\\l2export\\\\iss02.charpier\\\\priam\\\\EpiRest_Spike\\\\data\\\\patients\\\\pat_02680_1158\\\\ses-06\\\\ses-06.cfg'"
     ]
    }
   ],
   "source": [
    "generate_new_params_file(\"EpirestSpike_setparams.m\")"
   ]
  },
  {
   "cell_type": "code",
   "execution_count": 1,
   "id": "cc413294",
   "metadata": {
    "scrolled": false
   },
   "outputs": [],
   "source": [
    "import matlab.engine\n",
    "eng = matlab.engine.start_matlab()\n",
    "eng.EpirestSpike_prepare_SC(nargout=0)\n",
    "eng.quit()"
   ]
  },
  {
   "cell_type": "code",
   "execution_count": null,
   "id": "9df233da",
   "metadata": {},
   "outputs": [],
   "source": []
  }
 ],
 "metadata": {
  "kernelspec": {
   "display_name": "Python 3.9.10 64-bit",
   "language": "python",
   "name": "python3"
  },
  "language_info": {
   "codemirror_mode": {
    "name": "ipython",
    "version": 3
   },
   "file_extension": ".py",
   "mimetype": "text/x-python",
   "name": "python",
   "nbconvert_exporter": "python",
   "pygments_lexer": "ipython3",
   "version": "3.9.10"
  },
  "vscode": {
   "interpreter": {
    "hash": "11938c6bc6919ae2720b4d5011047913343b08a43b18698fd82dedb0d4417594"
   }
  }
 },
 "nbformat": 4,
 "nbformat_minor": 5
}
